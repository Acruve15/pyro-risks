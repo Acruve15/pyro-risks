{
 "cells": [
  {
   "cell_type": "markdown",
   "id": "8edf358e",
   "metadata": {},
   "source": [
    "# Requêtes APIs Orion\n",
    "\n",
    "Bienvenue dans la documentation de ce notebook de test d'APIs permettant de récupérer des données utiles pour la création d'un score de risque pour les feux de forêt.\n",
    "\n",
    "\n",
    "## Introduction\n",
    "\n",
    "Les feux de forêt sont l'un des fléaux les plus dévastateurs pour les écosystèmes et les communautés qui dépendent d'eux. Dans de nombreux cas, la prévention est la meilleure solution, et cela nécessite des outils de prévision précis pour mesurer le risque de déclenchement de feux de forêt.\n",
    "\n",
    "Ce notebook a pour objectif de tester différentes APIs pour créer un score de risque de feux de forêt en utilisant des informations telles que la météo, la végétation, l'humidité des sols, la topographie, et d'autres données environnementales. En explorant différentes sources de données, nous espérons trouver les meilleures informations pour créer un modèle de prédiction précis qui aidera les pompiers à prendre des mesures pour prévenir les feux de forêt.\n",
    "\n",
    "Nous avons sélectionné quelques APIs mentionnées dans le papier [Wildfire Danger Prediction and Understanding With Deep Learning](https://agupubs.onlinelibrary.wiley.com/doi/10.1029/2022GL099368) et nous allons explorer chacune d'entre elles en détail. Cette documentation servira de guide pour comprendre comment requêter et utiliser ces APIs.\n",
    "\n",
    "Nous espérons que ce notebook sera utile pour les personnes qui cherchent à améliorer la prévention des feux de forêt et à protéger nos écosystèmes.\n",
    "\n",
    "\n",
    "### Comment commencer ?\n",
    "#### Clonage du repo\n",
    "Commencer par ouvrir son IDE (Pycharm, VS, terminal...), et cloner le repository Git : \n",
    "```\n",
    "git clone git@github.com:pyronear/pyro-risks.git\n",
    "```\n",
    "\n",
    "/!\\ Il faut que votre clé SSH soit configurée dans Github. Si ce n'est pas fait, voir [ici](https://docs.github.com/en/authentication/connecting-to-github-with-ssh/adding-a-new-ssh-key-to-your-github-account).\n",
    "\n",
    "#### Environnement virtuel\n",
    "Activer son [environnement virtuel](https://realpython.com/python-virtual-environments-a-primer/) :\n",
    "```bash\n",
    "source venv/bin/activate\n",
    "```\n",
    "\n",
    "/!\\ Si vous n'avez pas configuré votre environnement virtuel, rendez vous à la racine du repo, et tapez dans votre terminal : \n",
    "```bash\n",
    "python -m venv venv\n",
    "pip install -r requirements.txt\n",
    "```\n",
    "\n",
    "#### Notebook\n",
    "Lancez ensuite votre notebook :\n",
    "\n",
    "```bash\n",
    "pip install jupyter\n",
    "jupyter notebook\n",
    "```\n",
    "\n",
    "Une fenêtre s'ouvre dans votre navigateur, c'est le notebook !\n",
    " \n",
    "Se rendre dans `pyro_risks/notebooks`, puis vous pouvez créer votre propre notebook, ou bien lancer un notebook déjà créé.\n",
    "\n",
    "## Requête des APIs mentionnées dans le papier\n",
    "\n",
    "Le papier mentionne 6 datasets : \n",
    "\n",
    " - **Daily weather data**, de **[ERA-5 Land](https://cds.climate.copernicus.eu/cdsapp#!/dataset/reanalysis-era5-land?tab=overview)** (Muñoz-Sabater et al., 2021) (température maximale à 2 m, vitesse maximale du vent, humidité relative minimale, précipitations totales, température maximale du point de rosée à 2 m et la pression maximale en surface), aggrégées à la journée.\n",
    "\n",
    " - **Satellite variables** de **[MODIS](https://www.earthdata.nasa.gov/learn/find-data/near-real-time/firms/mcd14dl-nrt)**, dont Normalized Difference Vegetation Index (NDVI; Didan, 2015), day and night Land Surface Temperature (LST; Wan et al., 2015).\n",
    "\n",
    " - **Soil moisture index** de **[European Drought Observatory](https://edo.jrc.ec.europa.eu/edov2/php/index.php?id=1000)** (Cammalleri et al., 2017).\n",
    "\n",
    " - **Roads distance, waterway distance, and yearly population density** de **WorldPop** (Tatem, 2017).\n",
    "\n",
    " - **Elevation and Slope** de **[Copernicus EU-DEM](https://land.copernicus.eu/imagery-in-situ/eu-dem/eu-dem-v1.1)** (Bashfield & Keim, 2011).\n",
    "\n",
    " - **Ten variables with the fraction of classes** (?) de **[Copernicus Corine Land Cover](https://land.copernicus.eu/pan-european/corine-land-cover)** (Büttner, 2014).\n",
    "\n",
    "\n",
    "### 1. Daily weather data - ERA-5 Land\n",
    "\n",
    "Documentation [ici](https://confluence.ecmwf.int/display/CKB/ERA5-Land%3A+data+documentation)."
   ]
  },
  {
   "cell_type": "code",
   "execution_count": 8,
   "id": "c69286bb",
   "metadata": {},
   "outputs": [
    {
     "ename": "NameError",
     "evalue": "name 'cfg' is not defined",
     "output_type": "error",
     "traceback": [
      "\u001b[0;31m---------------------------------------------------------------------------\u001b[0m",
      "\u001b[0;31mNameError\u001b[0m                                 Traceback (most recent call last)",
      "Cell \u001b[0;32mIn[8], line 2\u001b[0m\n\u001b[1;32m      1\u001b[0m \u001b[38;5;28;01mimport\u001b[39;00m \u001b[38;5;21;01mcdsapi\u001b[39;00m\n\u001b[0;32m----> 2\u001b[0m c \u001b[38;5;241m=\u001b[39m cdsapi\u001b[38;5;241m.\u001b[39mClient(url\u001b[38;5;241m=\u001b[39m\u001b[43mcfg\u001b[49m\u001b[38;5;241m.\u001b[39mCDS_URL, key\u001b[38;5;241m=\u001b[39m\u001b[38;5;124mf\u001b[39m\u001b[38;5;124m\"\u001b[39m\u001b[38;5;132;01m{\u001b[39;00mcfg\u001b[38;5;241m.\u001b[39mCDS_UID\u001b[38;5;132;01m}\u001b[39;00m\u001b[38;5;124m:\u001b[39m\u001b[38;5;132;01m{\u001b[39;00mcfg\u001b[38;5;241m.\u001b[39mCDS_API_KEY\u001b[38;5;132;01m}\u001b[39;00m\u001b[38;5;124m\"\u001b[39m, verify\u001b[38;5;241m=\u001b[39m\u001b[38;5;241m0\u001b[39m)\n\u001b[1;32m      3\u001b[0m c\u001b[38;5;241m.\u001b[39mretrieve(\n\u001b[1;32m      4\u001b[0m     \u001b[38;5;124m'\u001b[39m\u001b[38;5;124mreanalysis-era5-land\u001b[39m\u001b[38;5;124m'\u001b[39m,\n\u001b[1;32m      5\u001b[0m     {\n\u001b[0;32m   (...)\u001b[0m\n\u001b[1;32m     21\u001b[0m     },\n\u001b[1;32m     22\u001b[0m     \u001b[38;5;124m'\u001b[39m\u001b[38;5;124msnow_20130101_era5land.grib\u001b[39m\u001b[38;5;124m'\u001b[39m)\n",
      "\u001b[0;31mNameError\u001b[0m: name 'cfg' is not defined"
     ]
    }
   ],
   "source": [
    "import cdsapi\n",
    "c = cdsapi.Client(url=cfg.CDS_URL, key=f\"{cfg.CDS_UID}:{cfg.CDS_API_KEY}\", verify=0)\n",
    "c.retrieve(\n",
    "    'reanalysis-era5-land',\n",
    "    {\n",
    "        'format':'grib',\n",
    "        'time':[\n",
    "            '00:00','01:00','02:00',\n",
    "            '03:00','04:00','05:00',\n",
    "            '06:00','07:00','08:00',\n",
    "            '09:00','10:00','11:00',\n",
    "            '12:00','13:00','14:00',\n",
    "            '15:00','16:00','17:00',\n",
    "            '18:00','19:00','20:00',\n",
    "            '21:00','22:00','23:00'\n",
    "        ],\n",
    "        'day':'01',\n",
    "        'month':'01',\n",
    "        'year':'2013',\n",
    "        'variable':'snow_depth_water_equivalent',\n",
    "    },\n",
    "    'snow_20130101_era5land.grib')"
   ]
  },
  {
   "cell_type": "markdown",
   "id": "68d9f833",
   "metadata": {},
   "source": [
    "### 2. Satellite variables - MODIS"
   ]
  },
  {
   "cell_type": "code",
   "execution_count": null,
   "id": "79f31819",
   "metadata": {},
   "outputs": [],
   "source": []
  },
  {
   "cell_type": "markdown",
   "id": "a3fbee49",
   "metadata": {},
   "source": [
    "### 3. Soil moisture index - European Drought Observatory"
   ]
  },
  {
   "cell_type": "code",
   "execution_count": null,
   "id": "677312ea",
   "metadata": {},
   "outputs": [],
   "source": []
  },
  {
   "cell_type": "markdown",
   "id": "31960640",
   "metadata": {},
   "source": [
    "### 4. Roads distance, waterway distance, and yearly population density - WorldPop"
   ]
  },
  {
   "cell_type": "code",
   "execution_count": null,
   "id": "498b56bf",
   "metadata": {},
   "outputs": [],
   "source": []
  },
  {
   "cell_type": "markdown",
   "id": "e76d9913",
   "metadata": {},
   "source": [
    "### 5. Elevation and Slope - Copernicus EU-DEM"
   ]
  },
  {
   "cell_type": "code",
   "execution_count": null,
   "id": "a71839ae",
   "metadata": {},
   "outputs": [],
   "source": []
  },
  {
   "cell_type": "markdown",
   "id": "d1328812",
   "metadata": {},
   "source": [
    "### 6. Ten variables with the fraction of classes - Copernicus Corine Land Cover"
   ]
  },
  {
   "cell_type": "code",
   "execution_count": null,
   "id": "9758ecc2",
   "metadata": {},
   "outputs": [],
   "source": []
  }
 ],
 "metadata": {
  "kernelspec": {
   "display_name": "Python 3 (ipykernel)",
   "language": "python",
   "name": "python3"
  },
  "language_info": {
   "codemirror_mode": {
    "name": "ipython",
    "version": 3
   },
   "file_extension": ".py",
   "mimetype": "text/x-python",
   "name": "python",
   "nbconvert_exporter": "python",
   "pygments_lexer": "ipython3",
   "version": "3.10.7"
  }
 },
 "nbformat": 4,
 "nbformat_minor": 5
}
