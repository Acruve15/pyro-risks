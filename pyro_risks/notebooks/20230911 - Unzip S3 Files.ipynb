{
 "cells": [
  {
   "cell_type": "code",
   "execution_count": 1,
   "id": "4b1173a6-8d58-4730-aee4-4b07b1259a9c",
   "metadata": {},
   "outputs": [],
   "source": [
    "from dotenv import load_dotenv\n",
    "from tqdm import tqdm\n",
    "from io import BytesIO\n",
    "from zipfile import ZipFile\n",
    "load_dotenv()\n",
    "import os\n",
    "\n",
    "from pyro_risks.utils.s3 import S3Bucket\n",
    "\n",
    "s3 = S3Bucket(\n",
    "\tbucket_name=\"risk\", \n",
    "\tendpoint_url=os.environ[\"S3_ENDPOINT_URL\"], \n",
    "\tregion_name=os.environ[\"S3_REGION\"],\n",
    "\taws_access_key_id=os.environ[\"S3_ACCESS_KEY\"], \n",
    "\taws_secret_key=os.environ[\"S3_SECRET_KEY\"]\n",
    ")\n",
    "\n",
    "zip_obj = s3.bucket.Object(key='datacube/datasets.tar.gz')\n",
    "\n",
    "buffer = BytesIO(zip_obj.get()[\"Body\"].read())\n",
    "\n",
    "z = zipfile.ZipFile(buffer)\n",
    "for filename in tqdm(z.namelist()):\n",
    "    file_info = z.getinfo(filename)\n",
    "    s3.s3.meta.client.upload_fileobj(\n",
    "        z.open(filename),\n",
    "        Bucket=s3.bucket,\n",
    "        Key=f'datacube/raw/{filename}'\n",
    "    )"
   ]
  },
  {
   "cell_type": "code",
   "execution_count": 3,
   "id": "d5f94ce3-2529-4b38-9d9b-1923d5259ace",
   "metadata": {},
   "outputs": [],
   "source": [
    "files = s3.list_files(pattern=\"datacube\")"
   ]
  },
  {
   "cell_type": "code",
   "execution_count": null,
   "id": "ea473660-1414-4264-b15b-41c8ba3ffeea",
   "metadata": {},
   "outputs": [],
   "source": []
  }
 ],
 "metadata": {
  "kernelspec": {
   "display_name": "pyro-risk-env",
   "language": "python",
   "name": "pyro-risk-env"
  },
  "language_info": {
   "codemirror_mode": {
    "name": "ipython",
    "version": 3
   },
   "file_extension": ".py",
   "mimetype": "text/x-python",
   "name": "python",
   "nbconvert_exporter": "python",
   "pygments_lexer": "ipython3",
   "version": "3.9.7"
  }
 },
 "nbformat": 4,
 "nbformat_minor": 5
}
