{
 "cells": [
  {
   "cell_type": "code",
   "execution_count": 1,
   "id": "4b1173a6-8d58-4730-aee4-4b07b1259a9c",
   "metadata": {},
   "outputs": [],
   "source": [
    "from dotenv import load_dotenv\n",
    "from tqdm import tqdm\n",
    "from io import BytesIO\n",
    "import tarfile\n",
    "load_dotenv()\n",
    "import os\n",
    "\n",
    "from pyro_risks.utils.s3 import S3Bucket\n",
    "\n",
    "s3 = S3Bucket(\n",
    "\tbucket_name=\"risk\", \n",
    "\tendpoint_url=os.environ[\"S3_ENDPOINT_URL\"], \n",
    "\tregion_name=os.environ[\"S3_REGION\"],\n",
    "\taws_access_key_id=os.environ[\"S3_ACCESS_KEY\"], \n",
    "\taws_secret_key=os.environ[\"S3_SECRET_KEY\"]\n",
    ")\n",
    "\n",
    "zip_obj = s3.bucket.Object(key='datacube/datasets.tar.gz')"
   ]
  },
  {
   "cell_type": "code",
   "execution_count": 2,
   "id": "d7d7b76b",
   "metadata": {},
   "outputs": [],
   "source": [
    "compressed_file = BytesIO(zip_obj.get()['Body'].read())"
   ]
  },
  {
   "cell_type": "code",
   "execution_count": 3,
   "id": "9c1f49ad",
   "metadata": {},
   "outputs": [],
   "source": [
    "uncompressed_file = tarfile.open(None, 'r:gz', fileobj=compressed_file)"
   ]
  },
  {
   "cell_type": "code",
   "execution_count": null,
   "id": "874928c8",
   "metadata": {},
   "outputs": [],
   "source": [
    "for tarinfo in tqdm(uncompressed_file):\n",
    "    if tarinfo.isreg():\n",
    "        s3.s3_client.upload_fileobj(\n",
    "            uncompressed_file.extractfile(tarinfo), \n",
    "            Bucket='risk', \n",
    "            Key=f\"datacube/raw{tarinfo.name}\"\n",
    "        )"
   ]
  }
 ],
 "metadata": {
  "kernelspec": {
   "display_name": "pyro-risks-VdAEcIvu-py3.10",
   "language": "python",
   "name": "python3"
  },
  "language_info": {
   "codemirror_mode": {
    "name": "ipython",
    "version": 3
   },
   "file_extension": ".py",
   "mimetype": "text/x-python",
   "name": "python",
   "nbconvert_exporter": "python",
   "pygments_lexer": "ipython3",
   "version": "3.10.10"
  }
 },
 "nbformat": 4,
 "nbformat_minor": 5
}
